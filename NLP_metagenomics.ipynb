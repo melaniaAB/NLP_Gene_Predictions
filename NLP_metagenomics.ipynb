{
  "nbformat": 4,
  "nbformat_minor": 0,
  "metadata": {
    "colab": {
      "name": "NLP_metagenomics.ipynb",
      "provenance": []
    },
    "kernelspec": {
      "name": "python3",
      "display_name": "Python 3"
    },
    "language_info": {
      "name": "python"
    }
  },
  "cells": [
    {
      "cell_type": "code",
      "source": [
        "import numpy as np\n",
        "from keras.preprocessing.text import Tokenizer\n",
        "from keras.preprocessing.sequence import pad_sequences\n",
        "from sklearn.feature_extraction.text import CountVectorizer\n",
        "from sklearn.feature_extraction.text import TfidfTransformer\n",
        "from keras.models import Sequential\n",
        "from keras.callbacks import ModelCheckpoint\n",
        "from tensorflow.keras.optimizers import SGD, Adam, Adadelta\n",
        "from keras.layers import Conv1D, Dense, MaxPooling1D, Flatten, Dropout, Embedding, Activation\n",
        "from sklearn.model_selection import train_test_split\n",
        "import warnings"
      ],
      "metadata": {
        "id": "4mnja-2EM6O8"
      },
      "execution_count": null,
      "outputs": []
    },
    {
      "cell_type": "code",
      "source": [
        "df = pd.DataFrame(metagenomics_dataset, columns=['dna', 'class'])\n",
        "df"
      ],
      "metadata": {
        "colab": {
          "base_uri": "https://localhost:8080/",
          "height": 424
        },
        "id": "kb6_Rzt-_esu",
        "outputId": "a2be0d19-50f5-490c-e7be-3a056d03c5af"
      },
      "execution_count": null,
      "outputs": [
        {
          "output_type": "execute_result",
          "data": {
            "text/plain": [
              "                                                     dna  class\n",
              "27353  TACGTAGGTCCCGAGCGTTGTCCGGATTTATTGGGCGTAAAGCGAG...    0.0\n",
              "7327   CCTGTTTGCTCCCCACGCTTTCGAGCCTCAGCGTCAGTTACAGACC...    1.0\n",
              "31147  TACGTAGGGGGCAAGCGTTATCCGGATTTACTGGGTGTAAAGGGAG...    0.0\n",
              "10707  CCTGTTTGCTCCCCACGCTTTCGAGCCTCAGCGTCAGTTACAGTCC...    1.0\n",
              "25197  CCTGTTTGCTCCCCACGCTTTCGCACCTGAGCGTCAGTCTTCGTCC...    0.0\n",
              "...                                                  ...    ...\n",
              "7716   TACGGAGGGTGCAAGCGTTAATCGGAATTACTGGGCGTAAAGCGCA...    1.0\n",
              "7345   CCTGTTTGCCCCCCACGCTTTCGTGCCTCAGTGTCAGTTACAGTCC...    1.0\n",
              "10546  TACGGAGGGTGCAAGCGTTAATCGGAATTACTGGGCGTAAAGCGCA...    1.0\n",
              "17055  CCTGTTTGCTCCCCACGCTTTCGCACCTGAGCGTCAGTCTTCGTCC...    0.0\n",
              "7191   CCTGTTTGCTCCCCACGCTTTCGAGCCTCAGCGTCAGTTACAGACC...    1.0\n",
              "\n",
              "[37240 rows x 2 columns]"
            ],
            "text/html": [
              "\n",
              "  <div id=\"df-f5991aef-6553-45ec-bc5d-035c2a93f924\">\n",
              "    <div class=\"colab-df-container\">\n",
              "      <div>\n",
              "<style scoped>\n",
              "    .dataframe tbody tr th:only-of-type {\n",
              "        vertical-align: middle;\n",
              "    }\n",
              "\n",
              "    .dataframe tbody tr th {\n",
              "        vertical-align: top;\n",
              "    }\n",
              "\n",
              "    .dataframe thead th {\n",
              "        text-align: right;\n",
              "    }\n",
              "</style>\n",
              "<table border=\"1\" class=\"dataframe\">\n",
              "  <thead>\n",
              "    <tr style=\"text-align: right;\">\n",
              "      <th></th>\n",
              "      <th>dna</th>\n",
              "      <th>class</th>\n",
              "    </tr>\n",
              "  </thead>\n",
              "  <tbody>\n",
              "    <tr>\n",
              "      <th>27353</th>\n",
              "      <td>TACGTAGGTCCCGAGCGTTGTCCGGATTTATTGGGCGTAAAGCGAG...</td>\n",
              "      <td>0.0</td>\n",
              "    </tr>\n",
              "    <tr>\n",
              "      <th>7327</th>\n",
              "      <td>CCTGTTTGCTCCCCACGCTTTCGAGCCTCAGCGTCAGTTACAGACC...</td>\n",
              "      <td>1.0</td>\n",
              "    </tr>\n",
              "    <tr>\n",
              "      <th>31147</th>\n",
              "      <td>TACGTAGGGGGCAAGCGTTATCCGGATTTACTGGGTGTAAAGGGAG...</td>\n",
              "      <td>0.0</td>\n",
              "    </tr>\n",
              "    <tr>\n",
              "      <th>10707</th>\n",
              "      <td>CCTGTTTGCTCCCCACGCTTTCGAGCCTCAGCGTCAGTTACAGTCC...</td>\n",
              "      <td>1.0</td>\n",
              "    </tr>\n",
              "    <tr>\n",
              "      <th>25197</th>\n",
              "      <td>CCTGTTTGCTCCCCACGCTTTCGCACCTGAGCGTCAGTCTTCGTCC...</td>\n",
              "      <td>0.0</td>\n",
              "    </tr>\n",
              "    <tr>\n",
              "      <th>...</th>\n",
              "      <td>...</td>\n",
              "      <td>...</td>\n",
              "    </tr>\n",
              "    <tr>\n",
              "      <th>7716</th>\n",
              "      <td>TACGGAGGGTGCAAGCGTTAATCGGAATTACTGGGCGTAAAGCGCA...</td>\n",
              "      <td>1.0</td>\n",
              "    </tr>\n",
              "    <tr>\n",
              "      <th>7345</th>\n",
              "      <td>CCTGTTTGCCCCCCACGCTTTCGTGCCTCAGTGTCAGTTACAGTCC...</td>\n",
              "      <td>1.0</td>\n",
              "    </tr>\n",
              "    <tr>\n",
              "      <th>10546</th>\n",
              "      <td>TACGGAGGGTGCAAGCGTTAATCGGAATTACTGGGCGTAAAGCGCA...</td>\n",
              "      <td>1.0</td>\n",
              "    </tr>\n",
              "    <tr>\n",
              "      <th>17055</th>\n",
              "      <td>CCTGTTTGCTCCCCACGCTTTCGCACCTGAGCGTCAGTCTTCGTCC...</td>\n",
              "      <td>0.0</td>\n",
              "    </tr>\n",
              "    <tr>\n",
              "      <th>7191</th>\n",
              "      <td>CCTGTTTGCTCCCCACGCTTTCGAGCCTCAGCGTCAGTTACAGACC...</td>\n",
              "      <td>1.0</td>\n",
              "    </tr>\n",
              "  </tbody>\n",
              "</table>\n",
              "<p>37240 rows × 2 columns</p>\n",
              "</div>\n",
              "      <button class=\"colab-df-convert\" onclick=\"convertToInteractive('df-f5991aef-6553-45ec-bc5d-035c2a93f924')\"\n",
              "              title=\"Convert this dataframe to an interactive table.\"\n",
              "              style=\"display:none;\">\n",
              "        \n",
              "  <svg xmlns=\"http://www.w3.org/2000/svg\" height=\"24px\"viewBox=\"0 0 24 24\"\n",
              "       width=\"24px\">\n",
              "    <path d=\"M0 0h24v24H0V0z\" fill=\"none\"/>\n",
              "    <path d=\"M18.56 5.44l.94 2.06.94-2.06 2.06-.94-2.06-.94-.94-2.06-.94 2.06-2.06.94zm-11 1L8.5 8.5l.94-2.06 2.06-.94-2.06-.94L8.5 2.5l-.94 2.06-2.06.94zm10 10l.94 2.06.94-2.06 2.06-.94-2.06-.94-.94-2.06-.94 2.06-2.06.94z\"/><path d=\"M17.41 7.96l-1.37-1.37c-.4-.4-.92-.59-1.43-.59-.52 0-1.04.2-1.43.59L10.3 9.45l-7.72 7.72c-.78.78-.78 2.05 0 2.83L4 21.41c.39.39.9.59 1.41.59.51 0 1.02-.2 1.41-.59l7.78-7.78 2.81-2.81c.8-.78.8-2.07 0-2.86zM5.41 20L4 18.59l7.72-7.72 1.47 1.35L5.41 20z\"/>\n",
              "  </svg>\n",
              "      </button>\n",
              "      \n",
              "  <style>\n",
              "    .colab-df-container {\n",
              "      display:flex;\n",
              "      flex-wrap:wrap;\n",
              "      gap: 12px;\n",
              "    }\n",
              "\n",
              "    .colab-df-convert {\n",
              "      background-color: #E8F0FE;\n",
              "      border: none;\n",
              "      border-radius: 50%;\n",
              "      cursor: pointer;\n",
              "      display: none;\n",
              "      fill: #1967D2;\n",
              "      height: 32px;\n",
              "      padding: 0 0 0 0;\n",
              "      width: 32px;\n",
              "    }\n",
              "\n",
              "    .colab-df-convert:hover {\n",
              "      background-color: #E2EBFA;\n",
              "      box-shadow: 0px 1px 2px rgba(60, 64, 67, 0.3), 0px 1px 3px 1px rgba(60, 64, 67, 0.15);\n",
              "      fill: #174EA6;\n",
              "    }\n",
              "\n",
              "    [theme=dark] .colab-df-convert {\n",
              "      background-color: #3B4455;\n",
              "      fill: #D2E3FC;\n",
              "    }\n",
              "\n",
              "    [theme=dark] .colab-df-convert:hover {\n",
              "      background-color: #434B5C;\n",
              "      box-shadow: 0px 1px 3px 1px rgba(0, 0, 0, 0.15);\n",
              "      filter: drop-shadow(0px 1px 2px rgba(0, 0, 0, 0.3));\n",
              "      fill: #FFFFFF;\n",
              "    }\n",
              "  </style>\n",
              "\n",
              "      <script>\n",
              "        const buttonEl =\n",
              "          document.querySelector('#df-f5991aef-6553-45ec-bc5d-035c2a93f924 button.colab-df-convert');\n",
              "        buttonEl.style.display =\n",
              "          google.colab.kernel.accessAllowed ? 'block' : 'none';\n",
              "\n",
              "        async function convertToInteractive(key) {\n",
              "          const element = document.querySelector('#df-f5991aef-6553-45ec-bc5d-035c2a93f924');\n",
              "          const dataTable =\n",
              "            await google.colab.kernel.invokeFunction('convertToInteractive',\n",
              "                                                     [key], {});\n",
              "          if (!dataTable) return;\n",
              "\n",
              "          const docLinkHtml = 'Like what you see? Visit the ' +\n",
              "            '<a target=\"_blank\" href=https://colab.research.google.com/notebooks/data_table.ipynb>data table notebook</a>'\n",
              "            + ' to learn more about interactive tables.';\n",
              "          element.innerHTML = '';\n",
              "          dataTable['output_type'] = 'display_data';\n",
              "          await google.colab.output.renderOutput(dataTable, element);\n",
              "          const docLink = document.createElement('div');\n",
              "          docLink.innerHTML = docLinkHtml;\n",
              "          element.appendChild(docLink);\n",
              "        }\n",
              "      </script>\n",
              "    </div>\n",
              "  </div>\n",
              "  "
            ]
          },
          "metadata": {},
          "execution_count": 60
        }
      ]
    },
    {
      "cell_type": "code",
      "source": [
        "def obtain_Kmers(metadata, size=6):\n",
        "    return [metadata[x:x+size].lower() for x in range(len(metadata) - size + 1)]\n",
        "# list of k-mers\n",
        "df['K_words'] = df.apply(lambda x: obtain_Kmers(x['dna']), axis=1)\n",
        "data = df.drop('dna', axis=1)"
      ],
      "metadata": {
        "id": "xckvyI4v_fW4"
      },
      "execution_count": null,
      "outputs": []
    },
    {
      "cell_type": "code",
      "source": [
        "data['K_words']"
      ],
      "metadata": {
        "colab": {
          "base_uri": "https://localhost:8080/"
        },
        "id": "QpJrLYpbIgMn",
        "outputId": "dc0dace4-cc07-41dd-f67c-cddc8e9ae685"
      },
      "execution_count": null,
      "outputs": [
        {
          "output_type": "execute_result",
          "data": {
            "text/plain": [
              "27353    [tacgta, acgtag, cgtagg, gtaggt, taggtc, aggtc...\n",
              "7327     [cctgtt, ctgttt, tgtttg, gtttgc, tttgct, ttgct...\n",
              "31147    [tacgta, acgtag, cgtagg, gtaggg, tagggg, agggg...\n",
              "10707    [cctgtt, ctgttt, tgtttg, gtttgc, tttgct, ttgct...\n",
              "25197    [cctgtt, ctgttt, tgtttg, gtttgc, tttgct, ttgct...\n",
              "                               ...                        \n",
              "7716     [tacgga, acggag, cggagg, ggaggg, gagggt, agggt...\n",
              "7345     [cctgtt, ctgttt, tgtttg, gtttgc, tttgcc, ttgcc...\n",
              "10546    [tacgga, acggag, cggagg, ggaggg, gagggt, agggt...\n",
              "17055    [cctgtt, ctgttt, tgtttg, gtttgc, tttgct, ttgct...\n",
              "7191     [cctgtt, ctgttt, tgtttg, gtttgc, tttgct, ttgct...\n",
              "Name: words, Length: 37240, dtype: object"
            ]
          },
          "metadata": {},
          "execution_count": 62
        }
      ]
    },
    {
      "cell_type": "code",
      "source": [
        "# converting the lists of k-mers into string sentences\n",
        "word_text = list(data['K_words'])\n",
        "for item in range(len(word_text)):\n",
        "    word_text[item] = ' '.join(word_text[item])\n",
        "y_data = data.iloc[:, 0].values "
      ],
      "metadata": {
        "id": "dObBVsezIg0-"
      },
      "execution_count": null,
      "outputs": []
    },
    {
      "cell_type": "code",
      "source": [
        "tokenizer = Tokenizer()\n",
        "tokenizer.fit_on_texts(conv_text)\n",
        "encoded_docs = tokenizer.texts_to_sequences(conv_text)\n",
        "max_length = max([len(s.split()) for s in conv_text])\n",
        "X = pad_sequences(encoded_docs, maxlen = max_length, padding = 'post')"
      ],
      "metadata": {
        "id": "s5E39PfuJmKC"
      },
      "execution_count": null,
      "outputs": []
    },
    {
      "cell_type": "code",
      "source": [
        "X_train, X_test, y_train, y_test = train_test_split(X, np.stack(y_data), test_size = 0.20, random_state=42)\n",
        "vocab_size = len(tokenizer.word_index) + 1"
      ],
      "metadata": {
        "id": "-avx7Bx_J4ic"
      },
      "execution_count": null,
      "outputs": []
    },
    {
      "cell_type": "code",
      "source": [
        "warnings.filterwarnings('ignore')\n",
        "\n",
        "model = Sequential()\n",
        "model.add(Embedding(vocab_size, 10, input_length = max_length))\n",
        "model.add(Conv1D(filters = 16, kernel_size = 5, activation = 'relu'))\n",
        "model.add(MaxPooling1D(pool_size = 2))\n",
        "model.add(Flatten())\n",
        "model.add(Dense(1, activation = 'sigmoid'))\n",
        "\n",
        "epochs = 100\n",
        "lrate = 0.01\n",
        "decay = lrate / epochs\n",
        "sgd = SGD(lr = lrate, momentum = 0.9, nesterov = False)\n",
        "model.compile(loss = 'binary_crossentropy', optimizer = sgd, metrics = ['binary_accuracy'])\n",
        "model.summary()"
      ],
      "metadata": {
        "colab": {
          "base_uri": "https://localhost:8080/"
        },
        "id": "S7yUiuf3KAeR",
        "outputId": "671c99df-e10e-4fa4-8427-e8eef2af6bb1"
      },
      "execution_count": null,
      "outputs": [
        {
          "output_type": "stream",
          "name": "stdout",
          "text": [
            "Model: \"sequential_1\"\n",
            "_________________________________________________________________\n",
            " Layer (type)                Output Shape              Param #   \n",
            "=================================================================\n",
            " embedding_1 (Embedding)     (None, 249, 10)           40970     \n",
            "                                                                 \n",
            " conv1d_1 (Conv1D)           (None, 245, 16)           816       \n",
            "                                                                 \n",
            " max_pooling1d_1 (MaxPooling  (None, 122, 16)          0         \n",
            " 1D)                                                             \n",
            "                                                                 \n",
            " flatten_1 (Flatten)         (None, 1952)              0         \n",
            "                                                                 \n",
            " dense_1 (Dense)             (None, 1)                 1953      \n",
            "                                                                 \n",
            "=================================================================\n",
            "Total params: 43,739\n",
            "Trainable params: 43,739\n",
            "Non-trainable params: 0\n",
            "_________________________________________________________________\n"
          ]
        }
      ]
    },
    {
      "cell_type": "code",
      "source": [
        "history = model.fit(X_train , y_train, \n",
        "                    epochs = epochs, verbose = 2, validation_split = 0.30, batch_size = 32, shuffle = True)\n"
      ],
      "metadata": {
        "id": "HndXskpHK5u_"
      },
      "execution_count": null,
      "outputs": []
    },
    {
      "cell_type": "code",
      "source": [
        "history.history"
      ],
      "metadata": {
        "id": "h2cUumacLird"
      },
      "execution_count": null,
      "outputs": []
    },
    {
      "cell_type": "code",
      "source": [
        "# Let's evaluate the model on the test data\n",
        "results = model.evaluate(X_test, y_test, batch_size=128)\n",
        "print(\"test loss, test acc:\", results)\n",
        "\n",
        "# Let's generate predictions \n",
        "predictions = model.predict(X_test[:3])"
      ],
      "metadata": {
        "id": "ZTHUcJA-MSb0"
      },
      "execution_count": null,
      "outputs": []
    }
  ]
}